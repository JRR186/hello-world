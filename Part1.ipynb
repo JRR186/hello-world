{
 "cells": [
  {
   "cell_type": "code",
   "execution_count": 4,
   "id": "ae892652-c883-47a4-a7c4-7b786f839677",
   "metadata": {},
   "outputs": [
    {
     "name": "stdin",
     "output_type": "stream",
     "text": [
      "What's your name?  Jenna\n",
      "What's your favorite number?  12\n"
     ]
    },
    {
     "name": "stdout",
     "output_type": "stream",
     "text": [
      "Hello Jenna! Your favorite number squared is 144.\n"
     ]
    }
   ],
   "source": [
    "name = input(\"What's your name? \")\n",
    "number = int(input(\"What's your favorite number? \"))\n",
    "numbersquare = number * number\n",
    "print(f\"Hello {name}! Your favorite number squared is {numbersquare}.\")\n"
   ]
  },
  {
   "cell_type": "code",
   "execution_count": null,
   "id": "6886c0b7-422c-4743-891d-109ef82e878d",
   "metadata": {},
   "outputs": [],
   "source": []
  }
 ],
 "metadata": {
  "kernelspec": {
   "display_name": "Python 3 (ipykernel)",
   "language": "python",
   "name": "python3"
  },
  "language_info": {
   "codemirror_mode": {
    "name": "ipython",
    "version": 3
   },
   "file_extension": ".py",
   "mimetype": "text/x-python",
   "name": "python",
   "nbconvert_exporter": "python",
   "pygments_lexer": "ipython3",
   "version": "3.11.5"
  }
 },
 "nbformat": 4,
 "nbformat_minor": 5
}
